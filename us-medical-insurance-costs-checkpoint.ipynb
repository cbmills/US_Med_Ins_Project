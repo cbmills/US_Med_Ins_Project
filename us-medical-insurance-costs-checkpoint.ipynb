{
 "cells": [
  {
   "cell_type": "markdown",
   "metadata": {},
   "source": [
    "# U.S. Medical Insurance Costs"
   ]
  },
  {
   "cell_type": "code",
   "execution_count": 87,
   "metadata": {},
   "outputs": [],
   "source": [
    "#handle csv file and move to a dictionary with index values given to entries as keys\n",
    "import csv\n",
    "\n",
    "population = {}\n",
    "with open(\"insurance.csv\") as ins_csv:\n",
    "    pop_csv = csv.DictReader(ins_csv)\n",
    "    index = 1\n",
    "    for item in pop_csv:\n",
    "        population.update({index:item})\n",
    "        index += 1\n",
    "    \n",
    "#print(population)"
   ]
  },
  {
   "cell_type": "code",
   "execution_count": 89,
   "metadata": {},
   "outputs": [
    {
     "name": "stdout",
     "output_type": "stream",
     "text": [
      "13270.422265141257\n"
     ]
    }
   ],
   "source": [
    "#find average insurance cost for total population\n",
    "avg_ins_cost_total_pop = 0\n",
    "def avg_ins_cost(table):\n",
    "    total_ins_cost = 0\n",
    "    total_pop_num = 0\n",
    "    for item in table.values():\n",
    "        total_ins_cost += float(item.get(\"charges\"))\n",
    "        total_pop_num += 1\n",
    "    return total_ins_cost/total_pop_num\n",
    "\n",
    "avg_ins_cost_total_pop = avg_ins_cost(population)\n",
    "print(avg_ins_cost_total_pop)\n"
   ]
  },
  {
   "cell_type": "code",
   "execution_count": 98,
   "metadata": {},
   "outputs": [],
   "source": [
    "#find ratio of subpop ins cost to total pop\n",
    "def subpop_ratio(cost):\n",
    "    return round(cost/avg_ins_cost_total_pop, 2)\n"
   ]
  },
  {
   "cell_type": "code",
   "execution_count": 58,
   "metadata": {},
   "outputs": [],
   "source": [
    "#make tables for individaul variables with method\n",
    "\n",
    "def sub_pop_tables_str(population, key, value):\n",
    "    sub_pop = {}\n",
    "    index = 1\n",
    "    for item in population.values():\n",
    "        if item.get(key) == value:\n",
    "            sub_pop.update({index:item})\n",
    "            index += 1\n",
    "    return sub_pop\n",
    "\n",
    "\n",
    "def sub_pop_tables_flt(population, key, value_low, value_high):\n",
    "    sub_pop = {}\n",
    "    index = 1\n",
    "    for item in population.values():\n",
    "        if float(item.get(key)) >= value_low and float(item.get(key)) <= value_high:\n",
    "            sub_pop.update({index:item})\n",
    "            index +=1\n",
    "    return sub_pop\n",
    "            \n",
    "\n",
    "\n"
   ]
  },
  {
   "cell_type": "code",
   "execution_count": 57,
   "metadata": {},
   "outputs": [],
   "source": [
    "#subpop tables for male and female\n",
    "sex_male = sub_pop_tables_str(population, \"sex\", \"male\")\n",
    "sex_female = sub_pop_tables_str(population, \"sex\", \"female\")\n",
    "#print(sex_male)"
   ]
  },
  {
   "cell_type": "code",
   "execution_count": 56,
   "metadata": {},
   "outputs": [],
   "source": [
    "#find the number of subpop tables to make for children\n",
    "children_values = [\"0\"]\n",
    "for item in population.values():\n",
    "    keep = True\n",
    "    for num in children_values:\n",
    "        if num == item.get(\"children\"):\n",
    "            keep = False\n",
    "    if keep == True:\n",
    "        children_values.append(item.get(\"children\"))\n",
    "\n",
    "#print(children_values)\n",
    "#print(len(children_values))\n",
    "        \n",
    "\n",
    "#subpop tbales for number of children\n",
    "children_0 = sub_pop_tables_str(population, \"children\", \"0\")\n",
    "children_1 = sub_pop_tables_str(population, \"children\", \"1\")\n",
    "children_2 = sub_pop_tables_str(population, \"children\", \"2\")\n",
    "children_3 = sub_pop_tables_str(population, \"children\", \"3\")\n",
    "children_4 = sub_pop_tables_str(population, \"children\", \"4\")\n",
    "children_5 = sub_pop_tables_str(population, \"children\", \"5\")\n",
    "#print(children_5)"
   ]
  },
  {
   "cell_type": "code",
   "execution_count": 55,
   "metadata": {},
   "outputs": [],
   "source": [
    "#sub pop tables for smoker and non-smoker\n",
    "smoker_no = sub_pop_tables_str(population, \"smoker\", \"no\")\n",
    "smoker_yes = sub_pop_tables_str(population, \"smoker\", \"yes\")\n",
    "#print(smoker_yes)"
   ]
  },
  {
   "cell_type": "code",
   "execution_count": 54,
   "metadata": {},
   "outputs": [],
   "source": [
    "#find regions to make subpops\n",
    "region_values = []\n",
    "for item in population.values():\n",
    "    keep = True\n",
    "    for num in region_values:\n",
    "        if num == item.get(\"region\"):\n",
    "            keep = False\n",
    "    if keep == True:\n",
    "        region_values.append(item.get(\"region\"))\n",
    "        \n",
    "#print(region_values)\n",
    "\n",
    "#subpop tables for region\n",
    "region_sw = sub_pop_tables_str(population, \"region\", region_values[0])\n",
    "region_se = sub_pop_tables_str(population, \"region\", region_values[1])\n",
    "region_nw = sub_pop_tables_str(population, \"region\", region_values[2])\n",
    "region_ne = sub_pop_tables_str(population, \"region\", region_values[3])\n",
    "#print(region_ne)"
   ]
  },
  {
   "cell_type": "code",
   "execution_count": 66,
   "metadata": {},
   "outputs": [],
   "source": [
    "#find number of age ranges that will be needed for subpops, by 10 year increments\n",
    "age_values = []\n",
    "for item in population.values():\n",
    "    keep = True\n",
    "    for num in age_values:\n",
    "        if num == item.get(\"age\"):\n",
    "            keep = False\n",
    "    if keep == True:\n",
    "        age_values.append(item.get(\"age\"))\n",
    "age_values.sort()        \n",
    "#print(age_values)\n",
    "\n",
    "#subpop tables for age range increments by 10\n",
    "age_0_19 = sub_pop_tables_flt(population, \"age\", 0, 19)\n",
    "age_20_29 = sub_pop_tables_flt(population, \"age\", 20, 29)\n",
    "age_30_39 = sub_pop_tables_flt(population, \"age\", 30, 39)\n",
    "age_40_49 = sub_pop_tables_flt(population, \"age\", 40, 49)\n",
    "age_50_59 = sub_pop_tables_flt(population, \"age\", 50, 59)\n",
    "age_60_69 = sub_pop_tables_flt(population, \"age\", 60, 69)\n",
    "#print(age_60_69)"
   ]
  },
  {
   "cell_type": "code",
   "execution_count": 68,
   "metadata": {},
   "outputs": [],
   "source": [
    "#subpop tables for bmi with preset values\n",
    "bmi_underweight = sub_pop_tables_flt(population, \"bmi\", 0, 18.5)\n",
    "bmi_healthy = sub_pop_tables_flt(population, \"bmi\", 18.5, 24.9)\n",
    "bmi_overweight = sub_pop_tables_flt(population, \"bmi\", 25, 29.9)\n",
    "bmi_obese = sub_pop_tables_flt(population, \"bmi\", 30, 39.9)\n",
    "bmi_severe_obese = sub_pop_tables_flt(population, \"bmi\", 40, 100)\n",
    "#print(bmi_severe_obese)"
   ]
  },
  {
   "cell_type": "code",
   "execution_count": 88,
   "metadata": {},
   "outputs": [],
   "source": [
    "#make table of subpop tables with variable as the key\n",
    "subpop_all = {}\n",
    "subpop_all.update({\"sex_male\":sex_male, \"sex_female\":sex_female})\n",
    "subpop_all.update({\"children_0\": children_0, \"children_1\": children_1, \"children_2\": children_2, \"children_3\": children_3, \"children_4\": children_4, \"children_5\": children_5})\n",
    "subpop_all.update({\"smoker_no\":smoker_no, \"smoker_yes\":smoker_yes})\n",
    "subpop_all.update({\"region_sw\":region_sw, \"region_nw\":region_nw, \"region_se\":region_se, \"region_ne\":region_ne})\n",
    "subpop_all.update({\"age_0_19\": age_0_19, \"age_20_29\": age_20_29, \"age_30_39\": age_30_39, \"age_40_49\": age_40_49, \"age_50_59\": age_50_59, \"age_60_69\": age_60_69})\n",
    "subpop_all.update({\"bmi_underweight\":bmi_underweight, \"bmi_healthy\":bmi_healthy, \"bmi_overweight\":bmi_overweight, \"bmi_obese\":bmi_obese, \"bmi_severe_obese\":bmi_severe_obese})\n",
    "#print(list(subpop_all.keys()))"
   ]
  },
  {
   "cell_type": "code",
   "execution_count": 96,
   "metadata": {},
   "outputs": [],
   "source": [
    "#make lists of keys and average insurance costs and zip into a list\n",
    "key_factors = list(subpop_all.keys())\n",
    "avg_ins_costs_by_factor = []\n",
    "\n",
    "for item in subpop_all.values():\n",
    "    avg_ins_costs_by_factor.append(round(avg_ins_cost(item), 2))\n",
    "\n",
    "#print(avg_ins_costs_by_factor)\n",
    "\n",
    "factors_with_ins_costs_zip = list(zip( avg_ins_costs_by_factor, key_factors))\n",
    "#print(factors_with_ins_costs_zip)\n",
    "\n",
    "sorted_factors_with_ins_costs_zip = sorted(factors_with_ins_costs_zip)\n",
    "#print(sorted_factors_with_ins_costs_zip)\n",
    "#print(sorted_factors_with_ins_costs_zip[0][1])"
   ]
  },
  {
   "cell_type": "code",
   "execution_count": 99,
   "metadata": {},
   "outputs": [
    {
     "name": "stdout",
     "output_type": "stream",
     "text": [
      "Here are the ranked results for average insurance cost by sub-population with a comparison to the average insurance cost for the total population.\n",
      "Sub population age_0_19 has average insurance cost $8407.35 that is 0.63 times the average insurance cost of the total population.\n",
      "Sub population smoker_no has average insurance cost $8434.27 that is 0.64 times the average insurance cost of the total population.\n",
      "Sub population bmi_underweight has average insurance cost $8657.62 that is 0.65 times the average insurance cost of the total population.\n",
      "Sub population children_5 has average insurance cost $8786.04 that is 0.66 times the average insurance cost of the total population.\n",
      "Sub population age_20_29 has average insurance cost $9561.75 that is 0.72 times the average insurance cost of the total population.\n",
      "Sub population bmi_healthy has average insurance cost $10379.5 that is 0.78 times the average insurance cost of the total population.\n",
      "Sub population bmi_overweight has average insurance cost $10993.99 that is 0.83 times the average insurance cost of the total population.\n",
      "Sub population age_30_39 has average insurance cost $11738.78 that is 0.88 times the average insurance cost of the total population.\n",
      "Sub population region_sw has average insurance cost $12346.94 that is 0.93 times the average insurance cost of the total population.\n",
      "Sub population children_0 has average insurance cost $12365.98 that is 0.93 times the average insurance cost of the total population.\n",
      "Sub population region_nw has average insurance cost $12417.58 that is 0.94 times the average insurance cost of the total population.\n",
      "Sub population sex_female has average insurance cost $12569.58 that is 0.95 times the average insurance cost of the total population.\n",
      "Sub population children_1 has average insurance cost $12731.17 that is 0.96 times the average insurance cost of the total population.\n",
      "Sub population region_ne has average insurance cost $13406.38 that is 1.01 times the average insurance cost of the total population.\n",
      "Sub population children_4 has average insurance cost $13850.66 that is 1.04 times the average insurance cost of the total population.\n",
      "Sub population sex_male has average insurance cost $13956.75 that is 1.05 times the average insurance cost of the total population.\n",
      "Sub population age_40_49 has average insurance cost $14399.2 that is 1.09 times the average insurance cost of the total population.\n",
      "Sub population region_se has average insurance cost $14735.41 that is 1.11 times the average insurance cost of the total population.\n",
      "Sub population children_2 has average insurance cost $15073.56 that is 1.14 times the average insurance cost of the total population.\n",
      "Sub population children_3 has average insurance cost $15355.32 that is 1.16 times the average insurance cost of the total population.\n",
      "Sub population bmi_obese has average insurance cost $15383.41 that is 1.16 times the average insurance cost of the total population.\n",
      "Sub population age_50_59 has average insurance cost $16495.23 that is 1.24 times the average insurance cost of the total population.\n",
      "Sub population bmi_severe_obese has average insurance cost $16784.62 that is 1.26 times the average insurance cost of the total population.\n",
      "Sub population age_60_69 has average insurance cost $21248.02 that is 1.6 times the average insurance cost of the total population.\n",
      "Sub population smoker_yes has average insurance cost $32050.23 that is 2.42 times the average insurance cost of the total population.\n"
     ]
    }
   ],
   "source": [
    "#make results ranked and readable with comparison to avg ins cost for total pop\n",
    "print(\"Here are the ranked results for average insurance cost by sub-population with a comparison to the average insurance cost for the total population.\")\n",
    "for item in sorted_factors_with_ins_costs_zip:\n",
    "    print(\"Sub population {} has average insurance cost ${} that is {} times the average insurance cost of the total population.\".format(item[1], item[0], subpop_ratio(item[0])))\n"
   ]
  }
 ],
 "metadata": {
  "kernelspec": {
   "display_name": "Python 3 (ipykernel)",
   "language": "python",
   "name": "python3"
  },
  "language_info": {
   "codemirror_mode": {
    "name": "ipython",
    "version": 3
   },
   "file_extension": ".py",
   "mimetype": "text/x-python",
   "name": "python",
   "nbconvert_exporter": "python",
   "pygments_lexer": "ipython3",
   "version": "3.11.4"
  }
 },
 "nbformat": 4,
 "nbformat_minor": 4
}
